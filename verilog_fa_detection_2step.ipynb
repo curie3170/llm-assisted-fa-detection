{
  "nbformat": 4,
  "nbformat_minor": 0,
  "metadata": {
    "colab": {
      "provenance": []
    },
    "kernelspec": {
      "name": "python3",
      "display_name": "Python 3"
    },
    "language_info": {
      "name": "python"
    }
  },
  "cells": [
    {
      "cell_type": "code",
      "source": [
        "from google.colab import drive\n",
        "drive.mount('/content/drive')\n",
        "SAVE_DIR = '/content/drive/MyDrive/Colab_Notebooks2/LLM_files'"
      ],
      "metadata": {
        "colab": {
          "base_uri": "https://localhost:8080/"
        },
        "id": "-P2BOS-6zCjk",
        "outputId": "d907b377-0376-4700-f3fe-2b94bec47110"
      },
      "execution_count": 2,
      "outputs": [
        {
          "output_type": "stream",
          "name": "stdout",
          "text": [
            "Mounted at /content/drive\n"
          ]
        }
      ]
    },
    {
      "cell_type": "code",
      "execution_count": null,
      "metadata": {
        "id": "fXwxmYSWrZF_"
      },
      "outputs": [],
      "source": [
        "# Google Colab Setup Script for LLM + FA Detection EDA Flow\n",
        "\n",
        "# 1. System update & dependencies\n",
        "!apt-get update -qq && apt-get install -y build-essential clang bison flex libreadline-dev \\\n",
        "  gawk tcl-dev libffi-dev git mercurial graphviz xdot pkg-config python3 python3-pip \\\n",
        "  libboost-system-dev libboost-python-dev libboost-filesystem-dev zlib1g-dev\n",
        "\n",
        "# 2. Clone and build Yosys\n",
        "!git clone https://github.com/YosysHQ/yosys.git\n",
        "%cd yosys\n",
        "!git submodule update --init --recursive\n",
        "!make -j$(nproc)\n",
        "!make install\n",
        "!cp -r /content/yosys SAVE_DIR\n",
        "\n"
      ]
    },
    {
      "cell_type": "code",
      "source": [
        "!cp -r /content/yosys /content/drive/MyDrive/Colab_Notebooks2/LLM_files/"
      ],
      "metadata": {
        "id": "uM1j98dhLuB9"
      },
      "execution_count": null,
      "outputs": []
    },
    {
      "cell_type": "code",
      "source": [
        "# 3. Go back and create project directories\n",
        "import os\n",
        "%cd /\n",
        "verilog_path = os.path.join(SAVE_DIR, 'llm_fa/verilog_src')\n",
        "!mkdir -p /content/llm_fa/verilog_src /content/llm_fa/scripts /content/llm_fa/stats /content/llm_fa/llm\n",
        "\n",
        "# 4. Create example FA Verilog\n",
        "fa_verilog = '''\n",
        "module mystery_adder (\n",
        "    input  wire [3:0] a,\n",
        "    input  wire [3:0] b,\n",
        "    input  wire       cin,\n",
        "    output wire [3:0] sum,\n",
        "    output wire       cout\n",
        ");\n",
        "    wire c0, c1, c2, c3;\n",
        "    wire n00, n01, n02, n03, n04, n05, n06, n07;\n",
        "    assign n00 = a[0] ^ b[0];\n",
        "    assign n01 = n00 ^ cin;\n",
        "    assign n02 = a[0] & b[0];\n",
        "    assign n03 = b[0] & cin;\n",
        "    assign n04 = a[0] & cin;\n",
        "    assign n05 = n02 | n03;\n",
        "    assign n06 = n05 | n04;\n",
        "    assign sum[0] = n01;\n",
        "    assign c0 = n06;\n",
        "    wire n10, n11, n12, n13, n14, n15, n16, n17;\n",
        "    assign n10 = a[1] ^ b[1];\n",
        "    assign n11 = n10 ^ c0;\n",
        "    assign n12 = a[1] & b[1];\n",
        "    assign n13 = b[1] & c0;\n",
        "    assign n14 = a[1] & c0;\n",
        "    assign n15 = n12 | n13;\n",
        "    assign n16 = n15 | n14;\n",
        "    assign sum[1] = n11;\n",
        "    assign c1 = n16;\n",
        "    wire n20, n21, n22, n23, n24, n25, n26, n27;\n",
        "    assign n20 = a[2] ^ b[2];\n",
        "    assign n21 = n20 ^ c1;\n",
        "    assign n22 = a[2] & b[2];\n",
        "    assign n23 = b[2] & c1;\n",
        "    assign n24 = a[2] & c1;\n",
        "    assign n25 = n22 | n23;\n",
        "    assign n26 = n25 | n24;\n",
        "    assign sum[2] = n21;\n",
        "    assign c2 = n26;\n",
        "    wire n30, n31, n32, n33, n34, n35, n36, n37;\n",
        "    assign n30 = a[3] ^ b[3];\n",
        "    assign n31 = n30 ^ c2;\n",
        "    assign n32 = a[3] & b[3];\n",
        "    assign n33 = b[3] & c2;\n",
        "    assign n34 = a[3] & c2;\n",
        "    assign n35 = n32 | n33;\n",
        "    assign n36 = n35 | n34;\n",
        "    assign sum[3] = n31;\n",
        "    assign cout = n36;\n",
        "\n",
        "endmodule\n",
        "'''\n",
        "\n",
        "with open(\"/content/llm_fa/verilog_src/fa_example_hard.v\", \"w\") as f:\n",
        "    f.write(fa_verilog)\n",
        "\n",
        "# 5. Create FA cell primitive\n",
        "fa_cell = '''\n",
        "module top(input a, b, cin, output sum, output cout);\n",
        "    FA_CELL fa (\n",
        "        .a(a),\n",
        "        .b(b),\n",
        "        .cin(cin),\n",
        "        .sum(sum),\n",
        "        .cout(cout)\n",
        "    );\n",
        "endmodule\n",
        "\n",
        "module FA_CELL(\n",
        "    input  wire a,\n",
        "    input  wire b,\n",
        "    input  wire cin,\n",
        "    output wire sum,\n",
        "    output wire cout\n",
        ");\n",
        "  assign sum  = a ^ b ^ cin;\n",
        "  assign cout = (a & b) | (cin & (a ^ b));\n",
        "endmodule\n",
        "'''\n",
        "with open(\"/content/llm_fa/verilog_src/fa_cell.v\", \"w\") as f:\n",
        "    f.write(fa_cell)\n",
        "\n",
        "# 6. Create yosys script to generate AIG\n",
        "synth_script = '''\n",
        "read_verilog /content/llm_fa/verilog_src/fa_example_hard.v\n",
        "hierarchy -auto-top\n",
        "proc; opt; techmap\n",
        "aigmap\n",
        "write_aiger -ascii -symbols /content/llm_fa/design.aag\n",
        "'''\n",
        "#write_aiger /content/llm_fa/design.aig\n",
        "with open(\"/content/llm_fa/scripts/synth.ys\", \"w\") as f:\n",
        "    f.write(synth_script)\n",
        "\n",
        "print(\"✅ Setup complete. You can now run Yosys on /content/llm_fa/scripts/synth.ys\")"
      ],
      "metadata": {
        "id": "aBs_vIIxuD1g",
        "colab": {
          "base_uri": "https://localhost:8080/"
        },
        "outputId": "c4a50782-3b2f-4933-c716-ef60199a7629"
      },
      "execution_count": 161,
      "outputs": [
        {
          "output_type": "stream",
          "name": "stdout",
          "text": [
            "/\n",
            "✅ Setup complete. You can now run Yosys on /content/llm_fa/scripts/synth.ys\n"
          ]
        }
      ]
    },
    {
      "cell_type": "code",
      "source": [
        "# 7. Run Yosys synthesis to generate AIG\n",
        "%cd /content/drive/MyDrive/Colab_Notebooks2/LLM_files/yosys\n",
        "!chmod +x yosys\n",
        "!./yosys -V\n",
        "!./yosys -q -s /content/llm_fa/scripts/synth.ys\n"
      ],
      "metadata": {
        "colab": {
          "base_uri": "https://localhost:8080/"
        },
        "id": "wJgMdAqrd7HI",
        "outputId": "72de28e4-7ee9-4667-9280-a2fbdecfc666"
      },
      "execution_count": 162,
      "outputs": [
        {
          "output_type": "stream",
          "name": "stdout",
          "text": [
            "/content/drive/MyDrive/Colab_Notebooks2/LLM_files/yosys\n",
            "Yosys 0.53+101 (git sha1 0b19f628e, g++ 11.4.0-1ubuntu1~22.04 -fPIC -O3)\n"
          ]
        }
      ]
    },
    {
      "cell_type": "code",
      "source": [
        "# 8-1. Generate LLM prompt to locate FA logic line-by-line in Verilog\n",
        "\n",
        "prompt_template = f\"\"\"\n",
        "\n",
        "Here is the Verilog source:\n",
        "\n",
        "{fa_verilog}\n",
        "\n",
        "For each FA instance in the code:\n",
        "\t•\tAdd a line-by-line comment at the end of each line that participates in a Full Adder logic, using this format:\n",
        "wire ab = a & b; // FA #1\n",
        "wire bc = b & cin; // FA #1\n",
        "wire ac = a & cin; // FA #1\n",
        "wire carry = ab | bc | ac; // FA #1\n",
        "wire sum = a ^ b ^ cin; // FA #1\n",
        "\t•\tIf a second Full Adder exists in the code, label it as // FA #2, and so on.\n",
        "\t•\tDo not change or delete any code.\n",
        "\t•\tLeave unrelated lines untouched (no comments).\n",
        "Please output a complete and compilable Verilog module.\n",
        "\n",
        "Your output should begin with module and end with endmodule,Please do not include any Markdown code fences like ```verilog in your output. Output only raw Verilog code suitable for saving as a .v file.\n",
        "\"\"\"\n",
        "with open(\"/content/llm_fa/llm/llm_prompt_step1.txt\", \"w\") as f:\n",
        "    f.write(prompt_template)\n",
        "print(\"🧠 LLM prompt for step1 generated. Ready to pass to a model like GPT for annotation.\")\n",
        "\n"
      ],
      "metadata": {
        "colab": {
          "base_uri": "https://localhost:8080/"
        },
        "id": "whpgQCkXHwf6",
        "outputId": "71024314-a2b1-4542-ac2a-acf927357c50"
      },
      "execution_count": 163,
      "outputs": [
        {
          "output_type": "stream",
          "name": "stdout",
          "text": [
            "🧠 LLM prompt for step1 generated. Ready to pass to a model like GPT for annotation.\n"
          ]
        }
      ]
    },
    {
      "cell_type": "code",
      "source": [
        "# 8-2. Call LLM to annotate Verilog code\n",
        "import os\n",
        "from openai import OpenAI\n",
        "\n",
        "# Set your API key\n",
        "os.environ[\"OPENAI_API_KEY\"] = \"USER-API-KEY\"\n",
        "client = OpenAI()\n",
        "\n",
        "with open(\"/content/llm_fa/llm/llm_prompt_step1.txt\", \"r\") as f:\n",
        "    prompt = f.read()\n",
        "\n",
        "response = client.chat.completions.create(\n",
        "    model=\"gpt-4.1\",\n",
        "    messages=[{\"role\": \"user\", \"content\": prompt}]\n",
        ")\n",
        "\n",
        "print(response.choices[0].message.content)\n",
        "llm_result_step1 = response.choices[0].message.content\n",
        "with open(\"/content/llm_fa/llm/llm_result_step1.txt\", \"w\") as f:\n",
        "    f.write(llm_result_step1)\n",
        "\n",
        "print(\"📝 LLM result saved to llm_result_step1.txt\")"
      ],
      "metadata": {
        "colab": {
          "base_uri": "https://localhost:8080/"
        },
        "id": "QtYp0KatXJLM",
        "outputId": "8e9597f8-1b80-4abd-a4e9-5d22d9b6c01d"
      },
      "execution_count": 165,
      "outputs": [
        {
          "output_type": "stream",
          "name": "stdout",
          "text": [
            "module mystery_adder (\n",
            "    input  wire [3:0] a,\n",
            "    input  wire [3:0] b,\n",
            "    input  wire       cin,\n",
            "    output wire [3:0] sum,\n",
            "    output wire       cout\n",
            ");\n",
            "    wire c0, c1, c2, c3;\n",
            "    wire n00, n01, n02, n03, n04, n05, n06, n07;\n",
            "    assign n00 = a[0] ^ b[0]; // FA #1\n",
            "    assign n01 = n00 ^ cin; // FA #1\n",
            "    assign n02 = a[0] & b[0]; // FA #1\n",
            "    assign n03 = b[0] & cin; // FA #1\n",
            "    assign n04 = a[0] & cin; // FA #1\n",
            "    assign n05 = n02 | n03; // FA #1\n",
            "    assign n06 = n05 | n04; // FA #1\n",
            "    assign sum[0] = n01; // FA #1\n",
            "    assign c0 = n06; // FA #1\n",
            "    wire n10, n11, n12, n13, n14, n15, n16, n17;\n",
            "    assign n10 = a[1] ^ b[1]; // FA #2\n",
            "    assign n11 = n10 ^ c0; // FA #2\n",
            "    assign n12 = a[1] & b[1]; // FA #2\n",
            "    assign n13 = b[1] & c0; // FA #2\n",
            "    assign n14 = a[1] & c0; // FA #2\n",
            "    assign n15 = n12 | n13; // FA #2\n",
            "    assign n16 = n15 | n14; // FA #2\n",
            "    assign sum[1] = n11; // FA #2\n",
            "    assign c1 = n16; // FA #2\n",
            "    wire n20, n21, n22, n23, n24, n25, n26, n27;\n",
            "    assign n20 = a[2] ^ b[2]; // FA #3\n",
            "    assign n21 = n20 ^ c1; // FA #3\n",
            "    assign n22 = a[2] & b[2]; // FA #3\n",
            "    assign n23 = b[2] & c1; // FA #3\n",
            "    assign n24 = a[2] & c1; // FA #3\n",
            "    assign n25 = n22 | n23; // FA #3\n",
            "    assign n26 = n25 | n24; // FA #3\n",
            "    assign sum[2] = n21; // FA #3\n",
            "    assign c2 = n26; // FA #3\n",
            "    wire n30, n31, n32, n33, n34, n35, n36, n37;\n",
            "    assign n30 = a[3] ^ b[3]; // FA #4\n",
            "    assign n31 = n30 ^ c2; // FA #4\n",
            "    assign n32 = a[3] & b[3]; // FA #4\n",
            "    assign n33 = b[3] & c2; // FA #4\n",
            "    assign n34 = a[3] & c2; // FA #4\n",
            "    assign n35 = n32 | n33; // FA #4\n",
            "    assign n36 = n35 | n34; // FA #4\n",
            "    assign sum[3] = n31; // FA #4\n",
            "    assign cout = n36; // FA #4\n",
            "\n",
            "endmodule\n",
            "📝 LLM result saved to llm_result_step1.txt\n"
          ]
        }
      ]
    },
    {
      "cell_type": "code",
      "source": [
        "# 9-1. Convert FA logic to FA cell in Verilog\n",
        "prompt_template = f\"\"\"\n",
        "You are given a Verilog source code where lines involved in Full Adder logic are marked line-by-line with comments like:\n",
        "{llm_result_step1}\n",
        "\n",
        "Your task is to:\n",
        "1. Detect each group of lines associated with a unique Full Adder based on the // FA #N comments.\n",
        "2. For each FA group:\n",
        "\t•\tRemove all the lines marked with // FA #N\n",
        "\t•\tReplace them with a single instantiation of the module fa_cell, using the following format:\n",
        "FA_CELL fa_N (\n",
        "  .a(a), .b(b), .cin(cin),\n",
        "  .sum(sum), .cout(carry)\n",
        ");\n",
        "\t•\tImportant: The instance name faN must use the same number N from the comment (e.g., FA #1 → fa1, FA #2 → fa2, etc.)\n",
        "3. Preserve all unrelated code, including unmarked lines, always keeping the surrounding structure intact.\n",
        "4. Your output should begin with module and end with endmodule,Please do not include any Markdown code fences like ```verilog in your output. Output only raw Verilog code suitable for saving as a .v file.\n",
        "\"\"\"\n",
        "\n",
        "with open(\"/content/llm_fa/llm/llm_prompt_step2.txt\", \"w\") as f:\n",
        "    f.write(prompt_template)\n",
        "print(\"🧠 LLM prompt for step2 generated. Ready to pass to a model like GPT for annotation.\")\n"
      ],
      "metadata": {
        "colab": {
          "base_uri": "https://localhost:8080/"
        },
        "id": "YNctF7woXAUi",
        "outputId": "0f231f03-7a6e-4b06-e9ef-6e0044e2c084"
      },
      "execution_count": 166,
      "outputs": [
        {
          "output_type": "stream",
          "name": "stdout",
          "text": [
            "🧠 LLM prompt for step2 generated. Ready to pass to a model like GPT for annotation.\n"
          ]
        }
      ]
    },
    {
      "cell_type": "code",
      "source": [
        "# 9-2. Call LLM to refactor FA logic to FA cell\n",
        "import os\n",
        "from openai import OpenAI\n",
        "\n",
        "# Set your API key\n",
        "os.environ[\"OPENAI_API_KEY\"] = \"USER-API-KEY\"\n",
        "client = OpenAI()\n",
        "# 📝 2. Define Verilog with obfuscation (hard to identify FA)\n",
        "\n",
        "with open(\"/content/llm_fa/llm/llm_prompt_step2.txt\", \"r\") as f:\n",
        "    prompt = f.read()\n",
        "\n",
        "response = client.chat.completions.create(\n",
        "    model=\"gpt-4.1\",\n",
        "    messages=[{\"role\": \"user\", \"content\": prompt}]\n",
        ")\n",
        "\n",
        "print(response.choices[0].message.content)\n",
        "llm_result_step2 = response.choices[0].message.content\n",
        "with open(\"/content/llm_fa/llm/llm_result_step2.txt\", \"w\") as f:\n",
        "    f.write(llm_result_step2)\n",
        "\n",
        "with open(\"/content/llm_fa/verilog_src/fa_example_mod.v\", \"w\") as f:\n",
        "    f.write(llm_result_step2)\n",
        "\n",
        "\n",
        "print(\"📝 LLM result saved to llm_result_step2.txt\")"
      ],
      "metadata": {
        "colab": {
          "base_uri": "https://localhost:8080/"
        },
        "id": "6PNIdeNaNxIe",
        "outputId": "62b02f6d-96d0-4203-99c9-747574d2c98c"
      },
      "execution_count": 167,
      "outputs": [
        {
          "output_type": "stream",
          "name": "stdout",
          "text": [
            "module mystery_adder (\n",
            "    input  wire [3:0] a,\n",
            "    input  wire [3:0] b,\n",
            "    input  wire       cin,\n",
            "    output wire [3:0] sum,\n",
            "    output wire       cout\n",
            ");\n",
            "    wire c0, c1, c2, c3;\n",
            "    // FA #1 group replaced\n",
            "    FA_CELL fa1 (\n",
            "      .a(a[0]), .b(b[0]), .cin(cin),\n",
            "      .sum(sum[0]), .cout(c0)\n",
            "    );\n",
            "    wire n10, n11, n12, n13, n14, n15, n16, n17;\n",
            "    // FA #2 group replaced\n",
            "    FA_CELL fa2 (\n",
            "      .a(a[1]), .b(b[1]), .cin(c0),\n",
            "      .sum(sum[1]), .cout(c1)\n",
            "    );\n",
            "    wire n20, n21, n22, n23, n24, n25, n26, n27;\n",
            "    // FA #3 group replaced\n",
            "    FA_CELL fa3 (\n",
            "      .a(a[2]), .b(b[2]), .cin(c1),\n",
            "      .sum(sum[2]), .cout(c2)\n",
            "    );\n",
            "    wire n30, n31, n32, n33, n34, n35, n36, n37;\n",
            "    // FA #4 group replaced\n",
            "    FA_CELL fa4 (\n",
            "      .a(a[3]), .b(b[3]), .cin(c2),\n",
            "      .sum(sum[3]), .cout(cout)\n",
            "    );\n",
            "\n",
            "endmodule\n",
            "📝 LLM result saved to llm_result_step2.txt\n"
          ]
        }
      ]
    },
    {
      "cell_type": "code",
      "source": [
        "# 10. Re-synthesize modified Verilog\n",
        "synth_mod_script = '''\n",
        "read_verilog /content/llm_fa/verilog_src/fa_cell.v\n",
        "read_verilog /content/llm_fa/verilog_src/fa_example_mod.v\n",
        "hierarchy -auto-top\n",
        "proc; opt; techmap\n",
        "stat\n",
        "write_verilog /content/llm_fa/verilog_src/netlist_mod.v\n",
        "'''\n",
        "with open(\"/content/llm_fa/scripts/synth_mod.ys\", \"w\") as f:\n",
        "    f.write(synth_mod_script)\n",
        "\n",
        "!./yosys -q -s /content/llm_fa/scripts/synth_mod.ys\n",
        "print(\"✅ Re-synthesis complete with FA_CELL instantiated.\")\n"
      ],
      "metadata": {
        "id": "YVnJGLQhtlJ5",
        "colab": {
          "base_uri": "https://localhost:8080/"
        },
        "outputId": "b091e654-d953-40b9-b9c0-661667cbe6f2"
      },
      "execution_count": 170,
      "outputs": [
        {
          "output_type": "stream",
          "name": "stdout",
          "text": [
            "✅ Re-synthesis complete with FA_CELL instantiated.\n"
          ]
        }
      ]
    },
    {
      "cell_type": "code",
      "source": [
        "# 11. Run synthesis before and after refactoring\n",
        "original_stat_script = '''\n",
        "read_verilog /content/llm_fa/verilog_src/fa_example_hard.v\n",
        "hierarchy -auto-top\n",
        "proc; opt; techmap\n",
        "stat\n",
        "'''\n",
        "with open(\"/content/llm_fa/scripts/stat_orig.ys\", \"w\") as f:\n",
        "    f.write(original_stat_script)\n",
        "\n",
        "mod_stat_script = '''\n",
        "read_verilog /content/llm_fa/verilog_src/fa_cell.v\n",
        "read_verilog /content/llm_fa/verilog_src/fa_example_mod.v\n",
        "hierarchy -auto-top\n",
        "proc; opt; techmap\n",
        "stat\n",
        "'''\n",
        "with open(\"/content/llm_fa/scripts/stat_mod.ys\", \"w\") as f:\n",
        "    f.write(mod_stat_script)\n",
        "\n",
        "\n",
        "print(\"\\n📊 Original design stats saved at '/content/llm_fa/stats/stat_orig.txt'\")\n",
        "os.makedirs(\"/content/llm_fa/stats\", exist_ok=True)\n",
        "\n",
        "!./yosys -s /content/llm_fa/scripts/stat_orig.ys > /content/llm_fa/stats/stat_orig.txt\n",
        "print(\"\\n📊 Modified design stats with FA_CELL saved at '/content/llm_fa/stats/stat_mod.txt'\")\n",
        "!./yosys -s /content/llm_fa/scripts/stat_mod.ys   > /content/llm_fa/stats/stat_mod.txt\n"
      ],
      "metadata": {
        "id": "9k90e6gQtyWR",
        "colab": {
          "base_uri": "https://localhost:8080/"
        },
        "outputId": "b9710127-e748-4e8c-a965-a2ef884ace37"
      },
      "execution_count": 171,
      "outputs": [
        {
          "output_type": "stream",
          "name": "stdout",
          "text": [
            "\n",
            "📊 Original design stats saved at '/content/llm_fa/stats/stat_orig.txt'\n",
            "\n",
            "📊 Modified design stats with FA_CELL saved at '/content/llm_fa/stats/stat_mod.txt'\n"
          ]
        }
      ]
    },
    {
      "cell_type": "code",
      "source": [
        "def print_gate_summary(stat_path):\n",
        "    important_cells = [\"FA_CELL\", \"$_AND_\", \"$_OR_\", \"$_XOR_\"]\n",
        "    found = {cell: 0 for cell in important_cells}\n",
        "\n",
        "    with open(stat_path, \"r\") as f:\n",
        "        for line in f:\n",
        "            for cell in important_cells:\n",
        "                if line.strip().startswith(cell):\n",
        "                    count = int(line.strip().split()[-1])\n",
        "                    found[cell] = count\n",
        "\n",
        "    logic_total = 0\n",
        "    for cell in important_cells:\n",
        "        print(f\"{cell:>8}: {found[cell]}\")\n",
        "        if cell.startswith(\"$_\"):  # gate-level logic only\n",
        "            logic_total += found[cell]\n",
        "\n",
        "    print(f\"{'GATES':>8}: {logic_total}\")\n",
        "    return logic_total\n",
        "print(\"📊 Original design summary:\")\n",
        "total_orig = print_gate_summary(\"/content/llm_fa/stats/stat_orig.txt\")\n",
        "\n",
        "print(\"\\n📊 Modified design summary\")\n",
        "total_mod = print_gate_summary(\"/content/llm_fa/stats/stat_mod.txt\")\n",
        "\n",
        "print(f\"\\n🔻 Logic gate reduction: {total_orig - total_mod} gates\")"
      ],
      "metadata": {
        "colab": {
          "base_uri": "https://localhost:8080/"
        },
        "id": "2l7WK3TAqstP",
        "outputId": "77c279d1-e9a2-4d3e-ace5-e4957bf284f0"
      },
      "execution_count": 176,
      "outputs": [
        {
          "output_type": "stream",
          "name": "stdout",
          "text": [
            "📊 Original design summary:\n",
            " FA_CELL: 0\n",
            "  $_AND_: 12\n",
            "   $_OR_: 8\n",
            "  $_XOR_: 8\n",
            "   GATES: 28\n",
            "\n",
            "📊 Modified design summary\n",
            " FA_CELL: 4\n",
            "  $_AND_: 8\n",
            "   $_OR_: 4\n",
            "  $_XOR_: 8\n",
            "   GATES: 20\n",
            "\n",
            "🔻 Logic gate reduction: 8 gates\n"
          ]
        }
      ]
    }
  ]
}